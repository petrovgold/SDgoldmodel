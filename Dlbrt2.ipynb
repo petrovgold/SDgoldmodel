{
  "cells": [
    {
      "cell_type": "markdown",
      "metadata": {
        "id": "view-in-github",
        "colab_type": "text"
      },
      "source": [
        "<a href=\"https://colab.research.google.com/github/petrovgold/SDgoldmodel/blob/main/Dlbrt2.ipynb\" target=\"_parent\"><img src=\"https://colab.research.google.com/assets/colab-badge.svg\" alt=\"Open In Colab\"/></a>"
      ]
    },
    {
      "cell_type": "markdown",
      "metadata": {
        "id": "rW2Gob5MXU3I"
      },
      "source": [
        "# 🔥 **Step 1. Stable Diffusion Setup** 🔥 : Select your extensions and desired models."
      ]
    },
    {
      "cell_type": "code",
      "execution_count": null,
      "metadata": {
        "colab": {
          "background_save": true
        },
        "id": "sBbcB4vwj_jm"
      },
      "outputs": [],
      "source": [
        "# MEMFIX\n",
        "!curl -Lo memfix.zip https://github.com/nolanaatama/microsoftexcel/raw/main/memfix.zip\n",
        "!unzip /content/memfix.zip\n",
        "!apt -y update -qq\n",
        "%env LD_PRELOAD=/content/libtcmalloc_minimal.so.4\n",
        "\n",
        "# BASE DOCS (DO NOT TOUCH)\n",
        "!curl -Lo microsoftexcel.zip https://huggingface.co/nolanaatama/colab/resolve/main/microsoftexcel151.zip\n",
        "!unzip /content/microsoftexcel.zip\n",
        "\n",
        "# BASIC EXTENSION\n",
        "!git clone https://github.com/nolanaatama/microsoftexcel-tunnels /content/microsoftexcel/extensions/microsoftexcel-tunnels\n",
        "!git clone https://github.com/nolanaatama/microsoftexcel-controlnet /content/microsoftexcel/extensions/microsoftexcel-controlnet\n",
        "!git clone https://github.com/fkunn1326/openpose-editor /content/microsoftexcel/extensions/openpose-editor\n",
        "!git clone https://github.com/nolanaatama/microsoftexcel-3d-open-pose-editor /content/microsoftexcel/extensions/microsoftexcel-3d-open-pose-editor\n",
        "!git clone https://github.com/nolanaatama/a1111-microsoftexcel-tagcomplete /content/microsoftexcel/extensions/a1111-microsoftexcel-tagcomplete\n",
        "!git clone https://github.com/nolanaatama/a1111-microsoftexcel-locon /content/microsoftexcel/extensions/a1111-microsoftexcel-locon\n",
        "\n",
        "\n",
        "# BASIC EMBEDDINGS AND UPSCALER\n",
        "!mkdir /content/microsoftexcel/models/ESRGAN\n",
        "!curl -Lo /content/microsoftexcel/extensions/microsoftexcel-images-browser.zip https://huggingface.co/nolanaatama/colab/resolve/main/microsoftexcel-images-browser.zip\n",
        "!curl -Lo /content/microsoftexcel/embeddings/embeddings.zip https://huggingface.co/nolanaatama/colab/resolve/main/embeddings.zip\n",
        "!curl -Lo /content/microsoftexcel/models/ESRGAN/upscalers.zip https://huggingface.co/nolanaatama/colab/resolve/main/upscalers.zip\n",
        "%cd /content/microsoftexcel/extensions\n",
        "!unzip /content/microsoftexcel/extensions/microsoftexcel-images-browser.zip\n",
        "%cd /content/microsoftexcel/embeddings\n",
        "!unzip /content/microsoftexcel/embeddings/embeddings.zip\n",
        "%cd /content/microsoftexcel/models/ESRGAN\n",
        "!unzip /content/microsoftexcel/models/ESRGAN/upscalers.zip\n",
        "!rm upscalers.zip\n",
        "%cd /content\n",
        "\n",
        "# MODEL CHECKPOINT (select the desired version with #)\n",
        "!curl -Lo /content/microsoftexcel/models/Stable-diffusion/dlbrt2.safetensors https://civitai.com/api/download/models/15236\n",
        "\n",
        "\n",
        "# CONTROLNET MODELS\n",
        "# Remove '#' from the beginning of the line(s) below to download the selected ControlNet model(s)\n",
        "# Openpose\n",
        "!curl -Lo /content/microsoftexcel/extensions/microsoftexcel-controlnet/models/control_v11p_sd15_openpose.safetensors https://huggingface.co/nolanaatama/models/resolve/main/control_v11p_sd15_openpose_fp16.safetensors\n",
        "# Canny\n",
        "#!curl -Lo /content/microsoftexcel/extensions/microsoftexcel-controlnet/models/control_v11p_sd15_canny.safetensors https://huggingface.co/nolanaatama/models/resolve/main/control_v11p_sd15_canny_fp16.safetensors\n",
        "# Depth\n",
        "#!curl -Lo /content/microsoftexcel/extensions/microsoftexcel-controlnet/models/control_v11f1p_sd15_depth.safetensors https://huggingface.co/nolanaatama/models/resolve/main/control_v11p_sd15_depth_fp16.safetensors\n",
        "# Inpaint\n",
        "#!curl -Lo /content/microsoftexcel/extensions/microsoftexcel-controlnet/models/control_v11p_sd15_inpaint.safetensors https://huggingface.co/nolanaatama/models/resolve/main/control_v11p_sd15_inpaint_fp16.safetensors\n",
        "# Softedge\n",
        "#!curl -Lo /content/microsoftexcel/extensions/microsoftexcel-controlnet/models/control_v11p_sd15_softedge.safetensors https://huggingface.co/nolanaatama/models/resolve/main/control_v11p_sd15_softedge_fp16.safetensors\n",
        "# Tile\n",
        "#!curl -Lo /content/microsoftexcel/extensions/microsoftexcel-controlnet/models/control_v11f1e_sd15_tile.safetensors https://huggingface.co/nolanaatama/models/resolve/main/control_v11f1e_sd15_tile_fp16.safetensors\n",
        "# Ip2p\n",
        "#!curl -Lo /content/microsoftexcel/extensions/microsoftexcel-controlnet/models/control_v11e_sd15_ip2p.safetensors https://huggingface.co/nolanaatama/models/resolve/main/control_v11e_sd15_ip2p_fp16.safetensors\n",
        "# shuffle\n",
        "#!curl -Lo /content/microsoftexcel/extensions/microsoftexcel-controlnet/models/control_v11e_sd15_shuffle.safetensors https://huggingface.co/nolanaatama/models/resolve/main/control_v11e_sd15_shuffle_fp16.safetensors\n",
        "# lineart\n",
        "#!curl -Lo /content/microsoftexcel/extensions/microsoftexcel-controlnet/models/control_v11p_sd15_lineart.safetensors https://huggingface.co/nolanaatama/models/resolve/main/control_v11p_sd15_lineart_fp16.safetensors\n",
        "# mlsd\n",
        "#!curl -Lo /content/microsoftexcel/extensions/microsoftexcel-controlnet/models/control_v11p_sd15_mlsd.safetensors https://huggingface.co/nolanaatama/models/resolve/main/control_v11p_sd15_mlsd_fp16.safetensors\n",
        "# normalbae\n",
        "#!curl -Lo /content/microsoftexcel/extensions/microsoftexcel-controlnet/models/control_v11p_sd15_normalbae.safetensors https://huggingface.co/nolanaatama/models/resolve/main/control_v11p_sd15_normalbae_fp16.safetensors\n",
        "# scribble\n",
        "#!curl -Lo /content/microsoftexcel/extensions/microsoftexcel-controlnet/models/control_v11p_sd15_scribble.safetensors https://huggingface.co/nolanaatama/models/resolve/main/control_v11p_sd15_scribble_fp16.safetensors\n",
        "# Segmentation\n",
        "#!curl -Lo /content/microsoftexcel/extensions/microsoftexcel-controlnet/models/control_v11p_sd15_seg.safetensors https://huggingface.co/nolanaatama/models/resolve/main/control_v11p_sd15_seg_fp16.safetensors\n",
        "# Anime\n",
        "#!curl -Lo /content/microsoftexcel/extensions/microsoftexcel-controlnet/models/control_v11p_sd15s2_lineart_anime.safetensors https://huggingface.co/nolanaatama/models/resolve/main/control_v11p_sd15s2_lineart_anime_fp16.safetensors\n",
        "\n",
        "\n",
        "!rm microsoftexcel.zip\n",
        "%cd /content/microsoftexcel\n",
        "\n",
        "# Web UI tunnel\n",
        "!pip install fastapi==0.90\n",
        "!COMMANDLINE_ARGS=\"--share --disable-safe-unpickle --no-half-vae --xformers --enable-insecure-extension --gradio-queue\" REQS_FILE=\"requirements.txt\" python launch.py\n",
        "# Use this command below to use cloudflare tunnel\n",
        "#!COMMANDLINE_ARGS=\"--disable-safe-unpickle --no-half-vae --xformers --enable-insecure-extension --gradio-queue --cloudflared\" REQS_FILE=\"requirements.txt\" python launch.py"
      ]
    },
    {
      "cell_type": "markdown",
      "metadata": {
        "id": "P1CWdZodXt4p"
      },
      "source": [
        "⏰ Depending on the number of models to download, the process should take between 3 and 7 min.⏰ <br> Please be patient until you see this link :\n",
        "\n",
        "\n",
        "> Example : \"Running on local URL:  http://127.0.0.1:7860 <br> Running on public URL: https://xxxxxxxxxxxxx.gradio.live\"\n",
        "\n",
        "🎉  With the public Gradio URL, you can already start to use Stable Diffusion. 🎉\n",
        "\n",
        "<br>If you desire to add your own Lora library, follow instruction of Step 2 and Step 3.\n",
        "\n",
        "⬇️ **Before continuing, stop the first cell from running (stop button ⏹️).** ⬇️\n",
        "\n",
        "\n",
        "\n"
      ]
    },
    {
      "cell_type": "markdown",
      "metadata": {
        "id": "nb7gaqzxf4Ix"
      },
      "source": [
        " # 🗂️ **Step 2. Mount Google Drive** 🗂️\n"
      ]
    },
    {
      "cell_type": "code",
      "execution_count": null,
      "metadata": {
        "colab": {
          "base_uri": "https://localhost:8080/"
        },
        "id": "S-Bqx8rHf8q7",
        "outputId": "5ea87866-58c0-43b2-b880-c565052cb5eb"
      },
      "outputs": [
        {
          "name": "stdout",
          "output_type": "stream",
          "text": [
            "Mounted at /content/drive\n"
          ]
        }
      ],
      "source": [
        "from google.colab import drive\n",
        "drive.mount('/content/drive')"
      ]
    },
    {
      "cell_type": "markdown",
      "metadata": {
        "id": "anbxhmU4f9ic"
      },
      "source": [
        "#📚 **Step 3. Connect your Lora, VAE, Embeddings library** 📚"
      ]
    },
    {
      "cell_type": "code",
      "execution_count": null,
      "metadata": {
        "id": "mzzk3tTsgLsm"
      },
      "outputs": [],
      "source": [
        "# Create a Lora folder within your drive and drop all your lora files inside.\n",
        "# Locate the path on the side panel (right click) and copy the path below\n",
        "\n",
        "# LORA from Google drive\n",
        "# ONLY CHANGE THE FIRST PART below (careful to the format of the link '/content/drive/xxxx.')\n",
        "!cp -r '/content/drive/MyDrive/LORA/.' '/content/microsoftexcel/models/Lora'\n",
        "\n",
        "# VAE from Google Drive\n",
        "!cp -r '/content/drive/MyDrive/VAE/.' '/content/microsoftexcel/models/VAE'\n",
        "#!cp \"/content/drive/MyDrive/our_VAE_folder/OURVAEFILE1.pt\" \"/content/microsoftexcel/models/VAE\"\n",
        "\n",
        "\n",
        "# EMBEDDINGS from Google Drive\n",
        "!cp -r '/content/drive/MyDrive/EMBEDDINGS.' '/content/microsoftexcel/embeddings'\n",
        "#!cp \"/content/drive/MyDrive/our_embeddings_textualinversion/OUREMBEDDINGTEXTUALINVERSION1.pt\" \"/content/microsoftexcel/embeddings\"\n",
        "\n",
        "\n",
        "\n",
        "# Web UI tunnel\n",
        "!pip install fastapi==0.90\n",
        "!COMMANDLINE_ARGS=\"--share --disable-safe-unpickle --no-half-vae --xformers --enable-insecure-extension --gradio-queue\" REQS_FILE=\"requirements.txt\" python launch.py\n",
        "# Use this command below to use cloudflare tunnel\n",
        "#!COMMANDLINE_ARGS=\"--disable-safe-unpickle --no-half-vae --xformers --enable-insecure-extension --gradio-queue --cloudflared\" REQS_FILE=\"requirements.txt\" python launch.py"
      ]
    }
  ],
  "metadata": {
    "accelerator": "GPU",
    "colab": {
      "provenance": [],
      "include_colab_link": true
    },
    "gpuClass": "standard",
    "kernelspec": {
      "display_name": "Python 3",
      "name": "python3"
    },
    "language_info": {
      "name": "python"
    }
  },
  "nbformat": 4,
  "nbformat_minor": 0
}