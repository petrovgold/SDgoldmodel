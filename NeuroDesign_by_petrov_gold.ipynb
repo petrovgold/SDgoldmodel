{
  "cells": [
    {
      "cell_type": "markdown",
      "metadata": {
        "id": "view-in-github",
        "colab_type": "text"
      },
      "source": [
        "<a href=\"https://colab.research.google.com/github/petrovgold/SDgoldmodel/blob/main/NeuroDesign_by_petrov_gold.ipynb\" target=\"_parent\"><img src=\"https://colab.research.google.com/assets/colab-badge.svg\" alt=\"Open In Colab\"/></a>"
      ]
    },
    {
      "cell_type": "markdown",
      "metadata": {
        "id": "rW2Gob5MXU3I"
      },
      "source": [
        "# 🔥 **Step 1. Stable Diffusion Setup** 🔥 : Select your extensions and desired models."
      ]
    },
    {
      "cell_type": "code",
      "source": [
        "model_urls = [\n",
        "   {\n",
        "        \"name\": \"RealisticVision_V51\",\n",
        "        \"download_url\": \"https://civitai.com/api/download/models/105674\"\n",
        "    },\n",
        "    {\n",
        "        \"name\": \"Deliberate2\",\n",
        "        \"download_url\": \"https://civitai.com/api/download/models/15236\"\n",
        "    },\n",
        "   {\n",
        "        \"name\": \"ReV-Animated\",\n",
        "        \"download_url\": \"https://civitai.com/api/download/models/46846\"\n",
        "    },\n",
        "    {\n",
        "        \"name\": \"DreamShaper8\",\n",
        "        \"download_url\": \"https://civitai.com/api/download/models/128713\"\n",
        "    },\n",
        "    {\n",
        "        \"name\": \"dvArch\",\n",
        "        \"download_url\": \"https://civitai.com/api/download/models/10081\"\n",
        "    },\n",
        "    {\n",
        "        \"name\": \"XSarchitectural\",\n",
        "        \"download_url\": \"https://civitai.com/api/download/models/38193\"\n",
        "    },\n",
        "    {\n",
        "        \"name\": \"StableDiffusion-v15\",\n",
        "        \"download_url\": \"https://huggingface.co/runwayml/stable-diffusion-v1-5/resolve/main/v1-5-pruned.safetensors\"\n",
        "    }\n",
        "]\n",
        "def find_model_by_name(model_list, name):\n",
        "    for model in model_list:\n",
        "        if model[\"name\"] == name:\n",
        "            return model\n",
        "    return None\n",
        "# @markdown #ВЫБЕРИ МОДЕЛЬ\n",
        "Model = \"None Model\" # @param [\"None Model\", \"Chilloutmix\", \"DreamShaper8\", \"RealisticVision_V51\", \"dvArch\", \"XSarchitectural\", \"Deliberate2\", \"ReV-Animated\", \"StableDiffusion-v15\"]\n",
        "if Model != \"None Model\":\n",
        "  model_url = find_model_by_name(model_urls, Model)[\"download_url\"]\n",
        "  ckpt = \"/content/microsoftexcel/models/Stable-diffusion/{}.safetensors\".format(Model)\n",
        "  model_download_command = \"aria2c --console-log-level=error -c -x 16 -s 16 -k 1M {} -d /content/microsoftexcel/models/Stable-diffusion -o {}.safetensors\".format(model_url, Model)\n",
        "  !{model_download_command}\n",
        "else:\n",
        "  ckpt = \"/content/drive/MyDrive/StableDiffusion/Model/xyz.safetensors\"\n"
      ],
      "metadata": {
        "cellView": "form",
        "id": "s7eMYifh22Mg"
      },
      "execution_count": null,
      "outputs": []
    },
    {
      "cell_type": "code",
      "execution_count": null,
      "metadata": {
        "colab": {
          "background_save": true
        },
        "id": "sBbcB4vwj_jm"
      },
      "outputs": [],
      "source": [
        "# MEMFIX\n",
        "!curl -Lo memfix.zip https://github.com/nolanaatama/microsoftexcel/raw/main/memfix.zip\n",
        "!unzip /content/memfix.zip\n",
        "!apt -y update -qq\n",
        "%env LD_PRELOAD=/content/libtcmalloc_minimal.so.4\n",
        "\n",
        "# BASE DOCS (DO NOT TOUCH)\n",
        "!curl -Lo microsoftexcel.zip https://huggingface.co/nolanaatama/colab/resolve/main/microsoftexcel151.zip\n",
        "!unzip /content/microsoftexcel.zip\n",
        "\n",
        "# BASIC EXTENSION\n",
        "!git clone https://github.com/nolanaatama/microsoftexcel-tunnels /content/microsoftexcel/extensions/microsoftexcel-tunnels\n",
        "!git clone https://github.com/nolanaatama/microsoftexcel-controlnet /content/microsoftexcel/extensions/microsoftexcel-controlnet\n",
        "!git clone https://github.com/fkunn1326/openpose-editor /content/microsoftexcel/extensions/openpose-editor\n",
        "!git clone https://github.com/nolanaatama/microsoftexcel-3d-open-pose-editor /content/microsoftexcel/extensions/microsoftexcel-3d-open-pose-editor\n",
        "!git clone https://github.com/nolanaatama/a1111-microsoftexcel-tagcomplete /content/microsoftexcel/extensions/a1111-microsoftexcel-tagcomplete\n",
        "!git clone https://github.com/nolanaatama/a1111-microsoftexcel-locon /content/microsoftexcel/extensions/a1111-microsoftexcel-locon\n",
        "\n",
        "# YOUR FAVOURITE EXTENSION\n",
        "# !After Detailer\n",
        "!git clone https://github.com/Bing-su/adetailer /content/microsoftexcel/extensions/adetailer\n",
        "!git clone https://huggingface.co/Bingsu/adetailer /content/microsoftexcel/models/adetailer\n",
        "# Civitai-Helper\n",
        "!git clone https://github.com/butaixianran/Stable-Diffusion-Webui-Civitai-Helper /content/microsoftexcel/extensions/Stable-Diffusion-Webui-Civitai-Helper\n",
        "# Roop\n",
        "!git clone https://github.com/nolanaatama/microsoftexcel-roop /content/microsoftexcel/extensions/microsoftexcel-roop\n",
        "# Ultimate SD Upscale\n",
        "!git clone https://github.com/Coyote-A/ultimate-upscale-for-automatic1111 /content/microsoftexcel/extensions/ultimate-upscale-for-automatic1111\n",
        "# Mov2mov\n",
        "#!git clone https://github.com/nolanaatama/microsoftexcel-mov2mov /content/microsoftexcel/extensions/microsoftexcel-mov2mov\n",
        "# SuperMerger\n",
        "#!git clone https://github.com/nolanaatama/microsoftexcel-supermerger /content/microsoftexcel/extensions/microsoftexcel-supermerger\n",
        "# TemporalKit\n",
        "#!git clone https://github.com/CiaraStrawberry/TemporalKit /content/microsoftexcel/extensions/TemporalKit\n",
        "\n",
        "\n",
        "# BASIC EMBEDDINGS AND UPSCALER\n",
        "!mkdir /content/microsoftexcel/models/ESRGAN\n",
        "!curl -Lo /content/microsoftexcel/extensions/microsoftexcel-images-browser.zip https://huggingface.co/nolanaatama/colab/resolve/main/microsoftexcel-images-browser.zip\n",
        "!curl -Lo /content/microsoftexcel/embeddings/embeddings.zip https://huggingface.co/nolanaatama/colab/resolve/main/embeddings.zip\n",
        "!curl -Lo /content/microsoftexcel/models/ESRGAN/upscalers.zip https://huggingface.co/nolanaatama/colab/resolve/main/upscalers.zip\n",
        "%cd /content/microsoftexcel/extensions\n",
        "!unzip /content/microsoftexcel/extensions/microsoftexcel-images-browser.zip\n",
        "%cd /content/microsoftexcel/embeddings\n",
        "!unzip /content/microsoftexcel/embeddings/embeddings.zip\n",
        "%cd /content/microsoftexcel/models/ESRGAN\n",
        "!unzip /content/microsoftexcel/models/ESRGAN/upscalers.zip\n",
        "!rm upscalers.zip\n",
        "%cd /content\n",
        "\n",
        "# MODEL CHECKPOINT (select the desired version with #)\n",
        "!curl -Lo /content/microsoftexcel/models/Stable-diffusion/majicmixrealisticv6.safetensors https://civitai.com/api/download/models/94640\n",
        "# !curl -Lo /content/microsoftexcel/models/Stable-diffusion/majicmixrealisticv5.safetensors https://civitai.com/api/download/models/82446\n",
        "# !curl -Lo /content/microsoftexcel/models/Stable-diffusion/epicrealism_V2_5.safetensors https://civitai.com/api/download/models/126470\n",
        "\n",
        "# CONTROLNET MODELS\n",
        "# Remove '#' from the beginning of the line(s) below to download the selected ControlNet model(s)\n",
        "# Openpose\n",
        "!curl -Lo /content/microsoftexcel/extensions/microsoftexcel-controlnet/models/control_v11p_sd15_openpose.safetensors https://huggingface.co/nolanaatama/models/resolve/main/control_v11p_sd15_openpose_fp16.safetensors\n",
        "# Canny\n",
        "#!curl -Lo /content/microsoftexcel/extensions/microsoftexcel-controlnet/models/control_v11p_sd15_canny.safetensors https://huggingface.co/nolanaatama/models/resolve/main/control_v11p_sd15_canny_fp16.safetensors\n",
        "# Depth\n",
        "#!curl -Lo /content/microsoftexcel/extensions/microsoftexcel-controlnet/models/control_v11f1p_sd15_depth.safetensors https://huggingface.co/nolanaatama/models/resolve/main/control_v11p_sd15_depth_fp16.safetensors\n",
        "# Inpaint\n",
        "#!curl -Lo /content/microsoftexcel/extensions/microsoftexcel-controlnet/models/control_v11p_sd15_inpaint.safetensors https://huggingface.co/nolanaatama/models/resolve/main/control_v11p_sd15_inpaint_fp16.safetensors\n",
        "# Softedge\n",
        "#!curl -Lo /content/microsoftexcel/extensions/microsoftexcel-controlnet/models/control_v11p_sd15_softedge.safetensors https://huggingface.co/nolanaatama/models/resolve/main/control_v11p_sd15_softedge_fp16.safetensors\n",
        "# Tile\n",
        "#!curl -Lo /content/microsoftexcel/extensions/microsoftexcel-controlnet/models/control_v11f1e_sd15_tile.safetensors https://huggingface.co/nolanaatama/models/resolve/main/control_v11f1e_sd15_tile_fp16.safetensors\n",
        "# Ip2p\n",
        "#!curl -Lo /content/microsoftexcel/extensions/microsoftexcel-controlnet/models/control_v11e_sd15_ip2p.safetensors https://huggingface.co/nolanaatama/models/resolve/main/control_v11e_sd15_ip2p_fp16.safetensors\n",
        "# shuffle\n",
        "#!curl -Lo /content/microsoftexcel/extensions/microsoftexcel-controlnet/models/control_v11e_sd15_shuffle.safetensors https://huggingface.co/nolanaatama/models/resolve/main/control_v11e_sd15_shuffle_fp16.safetensors\n",
        "# lineart\n",
        "#!curl -Lo /content/microsoftexcel/extensions/microsoftexcel-controlnet/models/control_v11p_sd15_lineart.safetensors https://huggingface.co/nolanaatama/models/resolve/main/control_v11p_sd15_lineart_fp16.safetensors\n",
        "# mlsd\n",
        "#!curl -Lo /content/microsoftexcel/extensions/microsoftexcel-controlnet/models/control_v11p_sd15_mlsd.safetensors https://huggingface.co/nolanaatama/models/resolve/main/control_v11p_sd15_mlsd_fp16.safetensors\n",
        "# normalbae\n",
        "#!curl -Lo /content/microsoftexcel/extensions/microsoftexcel-controlnet/models/control_v11p_sd15_normalbae.safetensors https://huggingface.co/nolanaatama/models/resolve/main/control_v11p_sd15_normalbae_fp16.safetensors\n",
        "# scribble\n",
        "#!curl -Lo /content/microsoftexcel/extensions/microsoftexcel-controlnet/models/control_v11p_sd15_scribble.safetensors https://huggingface.co/nolanaatama/models/resolve/main/control_v11p_sd15_scribble_fp16.safetensors\n",
        "# Segmentation\n",
        "#!curl -Lo /content/microsoftexcel/extensions/microsoftexcel-controlnet/models/control_v11p_sd15_seg.safetensors https://huggingface.co/nolanaatama/models/resolve/main/control_v11p_sd15_seg_fp16.safetensors\n",
        "# Anime\n",
        "#!curl -Lo /content/microsoftexcel/extensions/microsoftexcel-controlnet/models/control_v11p_sd15s2_lineart_anime.safetensors https://huggingface.co/nolanaatama/models/resolve/main/control_v11p_sd15s2_lineart_anime_fp16.safetensors\n",
        "\n",
        "\n",
        "!rm microsoftexcel.zip\n",
        "%cd /content/microsoftexcel\n",
        "\n",
        "# Web UI tunnel\n",
        "!pip install fastapi==0.90\n",
        "!COMMANDLINE_ARGS=\"--share --disable-safe-unpickle --no-half-vae --xformers --enable-insecure-extension --gradio-queue\" REQS_FILE=\"requirements.txt\" python launch.py\n",
        "# Use this command below to use cloudflare tunnel\n",
        "#!COMMANDLINE_ARGS=\"--disable-safe-unpickle --no-half-vae --xformers --enable-insecure-extension --gradio-queue --cloudflared\" REQS_FILE=\"requirements.txt\" python launch.py"
      ]
    },
    {
      "cell_type": "markdown",
      "metadata": {
        "id": "nb7gaqzxf4Ix"
      },
      "source": [
        " # 🗂️ **Step 2. Mount Google Drive** 🗂️\n"
      ]
    },
    {
      "cell_type": "code",
      "execution_count": null,
      "metadata": {
        "colab": {
          "base_uri": "https://localhost:8080/"
        },
        "id": "S-Bqx8rHf8q7",
        "outputId": "5ea87866-58c0-43b2-b880-c565052cb5eb"
      },
      "outputs": [
        {
          "name": "stdout",
          "output_type": "stream",
          "text": [
            "Mounted at /content/drive\n"
          ]
        }
      ],
      "source": [
        "from google.colab import drive\n",
        "drive.mount('/content/drive')"
      ]
    },
    {
      "cell_type": "markdown",
      "metadata": {
        "id": "anbxhmU4f9ic"
      },
      "source": [
        "#📚 **Step 3. Connect your Lora, VAE, Embeddings library** 📚"
      ]
    },
    {
      "cell_type": "code",
      "execution_count": null,
      "metadata": {
        "id": "mzzk3tTsgLsm"
      },
      "outputs": [],
      "source": [
        "# Create a Lora folder within your drive and drop all your lora files inside.\n",
        "# Locate the path on the side panel (right click) and copy the path below\n",
        "\n",
        "# LORA from Google drive\n",
        "# ONLY CHANGE THE FIRST PART below (careful to the format of the link '/content/drive/xxxx.')\n",
        "!cp -r '/content/drive/MyDrive/LORA/.' '/content/microsoftexcel/models/Lora'\n",
        "\n",
        "# VAE from Google Drive\n",
        "!cp -r '/content/drive/MyDrive/VAE/.' '/content/microsoftexcel/models/VAE'\n",
        "#!cp \"/content/drive/MyDrive/our_VAE_folder/OURVAEFILE1.pt\" \"/content/microsoftexcel/models/VAE\"\n",
        "\n",
        "\n",
        "# EMBEDDINGS from Google Drive\n",
        "!cp -r '/content/drive/MyDrive/EMBEDDINGS.' '/content/microsoftexcel/embeddings'\n",
        "#!cp \"/content/drive/MyDrive/our_embeddings_textualinversion/OUREMBEDDINGTEXTUALINVERSION1.pt\" \"/content/microsoftexcel/embeddings\"\n",
        "\n",
        "\n",
        "\n",
        "# Web UI tunnel\n",
        "!pip install fastapi==0.90\n",
        "!COMMANDLINE_ARGS=\"--share --disable-safe-unpickle --no-half-vae --xformers --enable-insecure-extension --gradio-queue\" REQS_FILE=\"requirements.txt\" python launch.py\n",
        "# Use this command below to use cloudflare tunnel\n",
        "#!COMMANDLINE_ARGS=\"--disable-safe-unpickle --no-half-vae --xformers --enable-insecure-extension --gradio-queue --cloudflared\" REQS_FILE=\"requirements.txt\" python launch.py"
      ]
    },
    {
      "cell_type": "markdown",
      "metadata": {
        "id": "ggLM6eWaTxTr"
      },
      "source": [
        "##🌟 Improved and Adapted by Dreamscape AI.\n",
        "## ❤️ Check out here for more tutorial [Youtube Channel](https://www.youtube.com/channel/UC5rQxfOuPBfEdwCjha9Wsjw)\n",
        "\n",
        "###🗣️ Shoutout to [Nolan Aatama](https://huggingface.co/nolanaatama) for the amazing base work !\n"
      ]
    }
  ],
  "metadata": {
    "accelerator": "GPU",
    "colab": {
      "provenance": [],
      "include_colab_link": true
    },
    "gpuClass": "standard",
    "kernelspec": {
      "display_name": "Python 3",
      "name": "python3"
    },
    "language_info": {
      "name": "python"
    }
  },
  "nbformat": 4,
  "nbformat_minor": 0
}